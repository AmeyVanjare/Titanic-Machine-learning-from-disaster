{
  "nbformat": 4,
  "nbformat_minor": 0,
  "metadata": {
    "colab": {
      "name": "Titanic.ipynb",
      "provenance": [],
      "collapsed_sections": []
    },
    "kernelspec": {
      "name": "python3",
      "display_name": "Python 3"
    },
    "language_info": {
      "name": "python"
    }
  },
  "cells": [
    {
      "cell_type": "code",
      "metadata": {
        "id": "J5WDVJk55lJB"
      },
      "source": [
        "import numpy as np\n",
        "import pandas as pd\n",
        "import seaborn as sns\n",
        "import matplotlib.pyplot as plt\n",
        "from sklearn.linear_model import LogisticRegression\n",
        "from sklearn.impute import SimpleImputer\n",
        "from sklearn.preprocessing import StandardScaler\n",
        "from sklearn.metrics import confusion_matrix\n",
        "from sklearn.metrics import classification_report, accuracy_score\n",
        "from sklearn.neighbors import KNeighborsClassifier\n",
        "from sklearn.naive_bayes import GaussianNB\n",
        "from sklearn.svm import SVC\n",
        "from sklearn.tree import DecisionTreeClassifier "
      ],
      "execution_count": 185,
      "outputs": []
    },
    {
      "cell_type": "markdown",
      "metadata": {
        "id": "CjISySIsYp_i"
      },
      "source": [
        "Competition and dataset link :\n",
        "https://www.kaggle.com/c/titanic"
      ]
    },
    {
      "cell_type": "markdown",
      "metadata": {
        "id": "xefnNwEWZJMx"
      },
      "source": [
        "Target Variable :\n",
        "\n",
        "Survival\t0 = No, 1 = Yes"
      ]
    },
    {
      "cell_type": "code",
      "metadata": {
        "id": "lJN13UIb6A2O"
      },
      "source": [
        "df_train = pd.read_csv('/content/train.csv')\n",
        "df_test = pd.read_csv('/content/test.csv')"
      ],
      "execution_count": 139,
      "outputs": []
    },
    {
      "cell_type": "code",
      "metadata": {
        "id": "AJ9mUIwD6lkU"
      },
      "source": [
        "df_train.drop(['Cabin','PassengerId','Name','Ticket'],axis=1,inplace=True)"
      ],
      "execution_count": 140,
      "outputs": []
    },
    {
      "cell_type": "code",
      "metadata": {
        "colab": {
          "base_uri": "https://localhost:8080/",
          "height": 327
        },
        "id": "On_AOJH16U_e",
        "outputId": "fd39e5bf-0110-4674-9dc1-25fc2ca00e06"
      },
      "source": [
        "sns.heatmap(df_train.isnull())"
      ],
      "execution_count": 141,
      "outputs": [
        {
          "output_type": "execute_result",
          "data": {
            "text/plain": [
              "<matplotlib.axes._subplots.AxesSubplot at 0x7fbbc006bf10>"
            ]
          },
          "metadata": {
            "tags": []
          },
          "execution_count": 141
        },
        {
          "output_type": "display_data",
          "data": {
            "image/png": "[encoded data removed]",
            "text/plain": [
              "<Figure size 432x288 with 2 Axes>"
            ]
          },
          "metadata": {
            "tags": [],
            "needs_background": "light"
          }
        }
      ]
    },
    {
      "cell_type": "code",
      "metadata": {
        "id": "5w5evt3J61-7"
      },
      "source": [
        "df_test.drop(['Cabin','PassengerId','Name','Ticket'],axis=1,inplace=True)"
      ],
      "execution_count": 142,
      "outputs": []
    },
    {
      "cell_type": "code",
      "metadata": {
        "colab": {
          "base_uri": "https://localhost:8080/",
          "height": 286
        },
        "id": "WwkY36Nc6gts",
        "outputId": "0e12f262-cb9a-49e9-ca7b-ceff12b17328"
      },
      "source": [
        "sns.heatmap(df_test.isnull())"
      ],
      "execution_count": 143,
      "outputs": [
        {
          "output_type": "execute_result",
          "data": {
            "text/plain": [
              "<matplotlib.axes._subplots.AxesSubplot at 0x7fbbbfe437d0>"
            ]
          },
          "metadata": {
            "tags": []
          },
          "execution_count": 143
        },
        {
          "output_type": "display_data",
          "data": {
            "image/png": "[encoded data removed]",
            "text/plain": [
              "<Figure size 432x288 with 2 Axes>"
            ]
          },
          "metadata": {
            "tags": [],
            "needs_background": "light"
          }
        }
      ]
    },
    {
      "cell_type": "code",
      "metadata": {
        "colab": {
          "base_uri": "https://localhost:8080/",
          "height": 204
        },
        "id": "r-LWtJq-66H0",
        "outputId": "73480dc0-596d-4c09-924a-655bf2e4e7c8"
      },
      "source": [
        "df_train.head()"
      ],
      "execution_count": 144,
      "outputs": [
        {
          "output_type": "execute_result",
          "data": {
            "text/html": [
              "<div>\n",
              "<style scoped>\n",
              "    .dataframe tbody tr th:only-of-type {\n",
              "        vertical-align: middle;\n",
              "    }\n",
              "\n",
              "    .dataframe tbody tr th {\n",
              "        vertical-align: top;\n",
              "    }\n",
              "\n",
              "    .dataframe thead th {\n",
              "        text-align: right;\n",
              "    }\n",
              "</style>\n",
              "<table border=\"1\" class=\"dataframe\">\n",
              "  <thead>\n",
              "    <tr style=\"text-align: right;\">\n",
              "      <th></th>\n",
              "      <th>Survived</th>\n",
              "      <th>Pclass</th>\n",
              "      <th>Sex</th>\n",
              "      <th>Age</th>\n",
              "      <th>SibSp</th>\n",
              "      <th>Parch</th>\n",
              "      <th>Fare</th>\n",
              "      <th>Embarked</th>\n",
              "    </tr>\n",
              "  </thead>\n",
              "  <tbody>\n",
              "    <tr>\n",
              "      <th>0</th>\n",
              "      <td>0</td>\n",
              "      <td>3</td>\n",
              "      <td>male</td>\n",
              "      <td>22.0</td>\n",
              "      <td>1</td>\n",
              "      <td>0</td>\n",
              "      <td>7.2500</td>\n",
              "      <td>S</td>\n",
              "    </tr>\n",
              "    <tr>\n",
              "      <th>1</th>\n",
              "      <td>1</td>\n",
              "      <td>1</td>\n",
              "      <td>female</td>\n",
              "      <td>38.0</td>\n",
              "      <td>1</td>\n",
              "      <td>0</td>\n",
              "      <td>71.2833</td>\n",
              "      <td>C</td>\n",
              "    </tr>\n",
              "    <tr>\n",
              "      <th>2</th>\n",
              "      <td>1</td>\n",
              "      <td>3</td>\n",
              "      <td>female</td>\n",
              "      <td>26.0</td>\n",
              "      <td>0</td>\n",
              "      <td>0</td>\n",
              "      <td>7.9250</td>\n",
              "      <td>S</td>\n",
              "    </tr>\n",
              "    <tr>\n",
              "      <th>3</th>\n",
              "      <td>1</td>\n",
              "      <td>1</td>\n",
              "      <td>female</td>\n",
              "      <td>35.0</td>\n",
              "      <td>1</td>\n",
              "      <td>0</td>\n",
              "      <td>53.1000</td>\n",
              "      <td>S</td>\n",
              "    </tr>\n",
              "    <tr>\n",
              "      <th>4</th>\n",
              "      <td>0</td>\n",
              "      <td>3</td>\n",
              "      <td>male</td>\n",
              "      <td>35.0</td>\n",
              "      <td>0</td>\n",
              "      <td>0</td>\n",
              "      <td>8.0500</td>\n",
              "      <td>S</td>\n",
              "    </tr>\n",
              "  </tbody>\n",
              "</table>\n",
              "</div>"
            ],
            "text/plain": [
              "   Survived  Pclass     Sex   Age  SibSp  Parch     Fare Embarked\n",
              "0         0       3    male  22.0      1      0   7.2500        S\n",
              "1         1       1  female  38.0      1      0  71.2833        C\n",
              "2         1       3  female  26.0      0      0   7.9250        S\n",
              "3         1       1  female  35.0      1      0  53.1000        S\n",
              "4         0       3    male  35.0      0      0   8.0500        S"
            ]
          },
          "metadata": {
            "tags": []
          },
          "execution_count": 144
        }
      ]
    },
    {
      "cell_type": "markdown",
      "metadata": {
        "id": "QWnqio7r7czT"
      },
      "source": [
        "**EDA Analysis**"
      ]
    },
    {
      "cell_type": "code",
      "metadata": {
        "colab": {
          "base_uri": "https://localhost:8080/",
          "height": 352
        },
        "id": "4Kpg_o5X7h9D",
        "outputId": "218aef6a-a346-44f5-9278-5af7bb43dff3"
      },
      "source": [
        "sns.countplot(df_train['Sex'])"
      ],
      "execution_count": 145,
      "outputs": [
        {
          "output_type": "stream",
          "text": [
            "/usr/local/lib/python3.7/dist-packages/seaborn/_decorators.py:43: FutureWarning: Pass the following variable as a keyword arg: x. From version 0.12, the only valid positional argument will be `data`, and passing other arguments without an explicit keyword will result in an error or misinterpretation.\n",
            "  FutureWarning\n"
          ],
          "name": "stderr"
        },
        {
          "output_type": "execute_result",
          "data": {
            "text/plain": [
              "<matplotlib.axes._subplots.AxesSubplot at 0x7fbbbfdf4a10>"
            ]
          },
          "metadata": {
            "tags": []
          },
          "execution_count": 145
        },
        {
          "output_type": "display_data",
          "data": {
            "image/png": "[encoded data removed]",
            "text/plain": [
              "<Figure size 432x288 with 1 Axes>"
            ]
          },
          "metadata": {
            "tags": [],
            "needs_background": "light"
          }
        }
      ]
    },
    {
      "cell_type": "code",
      "metadata": {
        "colab": {
          "base_uri": "https://localhost:8080/",
          "height": 350
        },
        "id": "L0YPKsVS76rS",
        "outputId": "65bffa61-d7c8-4cb0-8221-a37ce28d14eb"
      },
      "source": [
        "sns.countplot(df_train['Survived'],hue=df_train['Sex'])"
      ],
      "execution_count": 146,
      "outputs": [
        {
          "output_type": "stream",
          "text": [
            "/usr/local/lib/python3.7/dist-packages/seaborn/_decorators.py:43: FutureWarning: Pass the following variable as a keyword arg: x. From version 0.12, the only valid positional argument will be `data`, and passing other arguments without an explicit keyword will result in an error or misinterpretation.\n",
            "  FutureWarning\n"
          ],
          "name": "stderr"
        },
        {
          "output_type": "execute_result",
          "data": {
            "text/plain": [
              "<matplotlib.axes._subplots.AxesSubplot at 0x7fbbbfcf7fd0>"
            ]
          },
          "metadata": {
            "tags": []
          },
          "execution_count": 146
        },
        {
          "output_type": "display_data",
          "data": {
            "image/png": "[encoded data removed]",
            "text/plain": [
              "<Figure size 432x288 with 1 Axes>"
            ]
          },
          "metadata": {
            "tags": [],
            "needs_background": "light"
          }
        }
      ]
    },
    {
      "cell_type": "code",
      "metadata": {
        "colab": {
          "base_uri": "https://localhost:8080/",
          "height": 350
        },
        "id": "jw_No8oR8dfC",
        "outputId": "ccf2c777-959f-4251-d353-20ce395a3ecf"
      },
      "source": [
        "sns.countplot(df_train['Pclass'],hue=df_train['Survived'])"
      ],
      "execution_count": 147,
      "outputs": [
        {
          "output_type": "stream",
          "text": [
            "/usr/local/lib/python3.7/dist-packages/seaborn/_decorators.py:43: FutureWarning: Pass the following variable as a keyword arg: x. From version 0.12, the only valid positional argument will be `data`, and passing other arguments without an explicit keyword will result in an error or misinterpretation.\n",
            "  FutureWarning\n"
          ],
          "name": "stderr"
        },
        {
          "output_type": "execute_result",
          "data": {
            "text/plain": [
              "<matplotlib.axes._subplots.AxesSubplot at 0x7fbbbfcdeb90>"
            ]
          },
          "metadata": {
            "tags": []
          },
          "execution_count": 147
        },
        {
          "output_type": "display_data",
          "data": {
            "image/png": "[encoded data removed]",
            "text/plain": [
              "<Figure size 432x288 with 1 Axes>"
            ]
          },
          "metadata": {
            "tags": [],
            "needs_background": "light"
          }
        }
      ]
    },
    {
      "cell_type": "markdown",
      "metadata": {
        "id": "VZeSBQhf9L75"
      },
      "source": [
        "**Data Cleaning**"
      ]
    },
    {
      "cell_type": "code",
      "metadata": {
        "id": "0bMmLPfFBJu4"
      },
      "source": [
        "df_train = pd.get_dummies(df_train,drop_first=True)"
      ],
      "execution_count": 148,
      "outputs": []
    },
    {
      "cell_type": "code",
      "metadata": {
        "colab": {
          "base_uri": "https://localhost:8080/"
        },
        "id": "MAg1DyRf9PmY",
        "outputId": "85f4e91b-80fa-4d12-a9cb-beaa90855652"
      },
      "source": [
        "df_train.isnull().sum()"
      ],
      "execution_count": 149,
      "outputs": [
        {
          "output_type": "execute_result",
          "data": {
            "text/plain": [
              "Survived        0\n",
              "Pclass          0\n",
              "Age           177\n",
              "SibSp           0\n",
              "Parch           0\n",
              "Fare            0\n",
              "Sex_male        0\n",
              "Embarked_Q      0\n",
              "Embarked_S      0\n",
              "dtype: int64"
            ]
          },
          "metadata": {
            "tags": []
          },
          "execution_count": 149
        }
      ]
    },
    {
      "cell_type": "code",
      "metadata": {
        "colab": {
          "base_uri": "https://localhost:8080/"
        },
        "id": "xbAX87AR9jLX",
        "outputId": "3f814ab1-f6fb-4a2f-da34-7d0c3c71acdb"
      },
      "source": [
        "df_train['Age'].describe()"
      ],
      "execution_count": 150,
      "outputs": [
        {
          "output_type": "execute_result",
          "data": {
            "text/plain": [
              "count    714.000000\n",
              "mean      29.699118\n",
              "std       14.526497\n",
              "min        0.420000\n",
              "25%       20.125000\n",
              "50%       28.000000\n",
              "75%       38.000000\n",
              "max       80.000000\n",
              "Name: Age, dtype: float64"
            ]
          },
          "metadata": {
            "tags": []
          },
          "execution_count": 150
        }
      ]
    },
    {
      "cell_type": "markdown",
      "metadata": {
        "id": "Ul9pz0Ns91cI"
      },
      "source": [
        "Filling the missing values in Age column"
      ]
    },
    {
      "cell_type": "code",
      "metadata": {
        "id": "5i1JS0bm9-A9"
      },
      "source": [
        "df_train.interpolate(method ='linear', limit_direction ='forward',inplace=True)"
      ],
      "execution_count": 151,
      "outputs": []
    },
    {
      "cell_type": "code",
      "metadata": {
        "id": "L9_ZHu46-8yM"
      },
      "source": [
        "df_train.dropna(inplace=True)"
      ],
      "execution_count": 152,
      "outputs": []
    },
    {
      "cell_type": "code",
      "metadata": {
        "colab": {
          "base_uri": "https://localhost:8080/"
        },
        "id": "6SirGDl-H2RK",
        "outputId": "289f7ee4-796b-4469-8013-5cdf7001605c"
      },
      "source": [
        "df_train.isnull().sum()"
      ],
      "execution_count": 153,
      "outputs": [
        {
          "output_type": "execute_result",
          "data": {
            "text/plain": [
              "Survived      0\n",
              "Pclass        0\n",
              "Age           0\n",
              "SibSp         0\n",
              "Parch         0\n",
              "Fare          0\n",
              "Sex_male      0\n",
              "Embarked_Q    0\n",
              "Embarked_S    0\n",
              "dtype: int64"
            ]
          },
          "metadata": {
            "tags": []
          },
          "execution_count": 153
        }
      ]
    },
    {
      "cell_type": "markdown",
      "metadata": {
        "id": "1JWB9ian_x4C"
      },
      "source": [
        "**Handling missing values in test data(Not sure whether this is legit step)**\n",
        "\n",
        "I am using SimpleImputer for this purpose"
      ]
    },
    {
      "cell_type": "code",
      "metadata": {
        "id": "EWB0LO0wBEOI"
      },
      "source": [
        "df_test = pd.get_dummies(df_test,drop_first=True)"
      ],
      "execution_count": 154,
      "outputs": []
    },
    {
      "cell_type": "code",
      "metadata": {
        "colab": {
          "base_uri": "https://localhost:8080/"
        },
        "id": "sGGq1Inb_fRV",
        "outputId": "8b44f646-83ee-4489-d9d7-5521bf7a9809"
      },
      "source": [
        "df_test.isnull().sum()"
      ],
      "execution_count": 155,
      "outputs": [
        {
          "output_type": "execute_result",
          "data": {
            "text/plain": [
              "Pclass         0\n",
              "Age           86\n",
              "SibSp          0\n",
              "Parch          0\n",
              "Fare           1\n",
              "Sex_male       0\n",
              "Embarked_Q     0\n",
              "Embarked_S     0\n",
              "dtype: int64"
            ]
          },
          "metadata": {
            "tags": []
          },
          "execution_count": 155
        }
      ]
    },
    {
      "cell_type": "code",
      "metadata": {
        "id": "_o96Vfc3AAha"
      },
      "source": [
        "imp = SimpleImputer(strategy='mean')\n",
        "df_testimputed = imp.fit_transform(df_test)    \n",
        "df_test = pd.DataFrame(df_testimputed, columns=df_test.columns)"
      ],
      "execution_count": 156,
      "outputs": []
    },
    {
      "cell_type": "code",
      "metadata": {
        "id": "JqSiYJlKBQSQ",
        "colab": {
          "base_uri": "https://localhost:8080/",
          "height": 204
        },
        "outputId": "1f9fc2d2-d8b9-4f7c-df69-369bcd5beb07"
      },
      "source": [
        "df_test.head()"
      ],
      "execution_count": 157,
      "outputs": [
        {
          "output_type": "execute_result",
          "data": {
            "text/html": [
              "<div>\n",
              "<style scoped>\n",
              "    .dataframe tbody tr th:only-of-type {\n",
              "        vertical-align: middle;\n",
              "    }\n",
              "\n",
              "    .dataframe tbody tr th {\n",
              "        vertical-align: top;\n",
              "    }\n",
              "\n",
              "    .dataframe thead th {\n",
              "        text-align: right;\n",
              "    }\n",
              "</style>\n",
              "<table border=\"1\" class=\"dataframe\">\n",
              "  <thead>\n",
              "    <tr style=\"text-align: right;\">\n",
              "      <th></th>\n",
              "      <th>Pclass</th>\n",
              "      <th>Age</th>\n",
              "      <th>SibSp</th>\n",
              "      <th>Parch</th>\n",
              "      <th>Fare</th>\n",
              "      <th>Sex_male</th>\n",
              "      <th>Embarked_Q</th>\n",
              "      <th>Embarked_S</th>\n",
              "    </tr>\n",
              "  </thead>\n",
              "  <tbody>\n",
              "    <tr>\n",
              "      <th>0</th>\n",
              "      <td>3.0</td>\n",
              "      <td>34.5</td>\n",
              "      <td>0.0</td>\n",
              "      <td>0.0</td>\n",
              "      <td>7.8292</td>\n",
              "      <td>1.0</td>\n",
              "      <td>1.0</td>\n",
              "      <td>0.0</td>\n",
              "    </tr>\n",
              "    <tr>\n",
              "      <th>1</th>\n",
              "      <td>3.0</td>\n",
              "      <td>47.0</td>\n",
              "      <td>1.0</td>\n",
              "      <td>0.0</td>\n",
              "      <td>7.0000</td>\n",
              "      <td>0.0</td>\n",
              "      <td>0.0</td>\n",
              "      <td>1.0</td>\n",
              "    </tr>\n",
              "    <tr>\n",
              "      <th>2</th>\n",
              "      <td>2.0</td>\n",
              "      <td>62.0</td>\n",
              "      <td>0.0</td>\n",
              "      <td>0.0</td>\n",
              "      <td>9.6875</td>\n",
              "      <td>1.0</td>\n",
              "      <td>1.0</td>\n",
              "      <td>0.0</td>\n",
              "    </tr>\n",
              "    <tr>\n",
              "      <th>3</th>\n",
              "      <td>3.0</td>\n",
              "      <td>27.0</td>\n",
              "      <td>0.0</td>\n",
              "      <td>0.0</td>\n",
              "      <td>8.6625</td>\n",
              "      <td>1.0</td>\n",
              "      <td>0.0</td>\n",
              "      <td>1.0</td>\n",
              "    </tr>\n",
              "    <tr>\n",
              "      <th>4</th>\n",
              "      <td>3.0</td>\n",
              "      <td>22.0</td>\n",
              "      <td>1.0</td>\n",
              "      <td>1.0</td>\n",
              "      <td>12.2875</td>\n",
              "      <td>0.0</td>\n",
              "      <td>0.0</td>\n",
              "      <td>1.0</td>\n",
              "    </tr>\n",
              "  </tbody>\n",
              "</table>\n",
              "</div>"
            ],
            "text/plain": [
              "   Pclass   Age  SibSp  Parch     Fare  Sex_male  Embarked_Q  Embarked_S\n",
              "0     3.0  34.5    0.0    0.0   7.8292       1.0         1.0         0.0\n",
              "1     3.0  47.0    1.0    0.0   7.0000       0.0         0.0         1.0\n",
              "2     2.0  62.0    0.0    0.0   9.6875       1.0         1.0         0.0\n",
              "3     3.0  27.0    0.0    0.0   8.6625       1.0         0.0         1.0\n",
              "4     3.0  22.0    1.0    1.0  12.2875       0.0         0.0         1.0"
            ]
          },
          "metadata": {
            "tags": []
          },
          "execution_count": 157
        }
      ]
    },
    {
      "cell_type": "markdown",
      "metadata": {
        "id": "avcfOslNKQa4"
      },
      "source": [
        "**Separate dependent and independent column(X,y)**"
      ]
    },
    {
      "cell_type": "code",
      "metadata": {
        "id": "ouQieqAXKWNE"
      },
      "source": [
        "X = df_train.drop('Survived',axis=1)\n",
        "y = df_train['Survived']"
      ],
      "execution_count": 165,
      "outputs": []
    },
    {
      "cell_type": "markdown",
      "metadata": {
        "id": "u8c4CUTmH7aK"
      },
      "source": [
        "**Using standard scaler to scale the data. **\n",
        "\n",
        "We will fit the scaling model using training data and then apply it for transforming test data"
      ]
    },
    {
      "cell_type": "code",
      "metadata": {
        "colab": {
          "base_uri": "https://localhost:8080/"
        },
        "id": "3T7gfFt6ILLY",
        "outputId": "112a43c6-f939-492f-8fa9-66bdc2f9590f"
      },
      "source": [
        "scl = StandardScaler()\n",
        "scl.fit(X)"
      ],
      "execution_count": 166,
      "outputs": [
        {
          "output_type": "execute_result",
          "data": {
            "text/plain": [
              "StandardScaler(copy=True, with_mean=True, with_std=True)"
            ]
          },
          "metadata": {
            "tags": []
          },
          "execution_count": 166
        }
      ]
    },
    {
      "cell_type": "code",
      "metadata": {
        "id": "ZbCFwx1YJEgY"
      },
      "source": [
        "X_Scaled = scl.fit_transform(X)\n",
        "df_testScaled =  scl.fit_transform(df_test)"
      ],
      "execution_count": 167,
      "outputs": []
    },
    {
      "cell_type": "code",
      "metadata": {
        "id": "cgi_ZrfEJPGO"
      },
      "source": [
        "X_Scaled = pd.DataFrame(X_Scaled,columns=X.columns)\n",
        "df_testScaled = pd.DataFrame(df_testScaled,columns=df_test.columns)"
      ],
      "execution_count": 168,
      "outputs": []
    },
    {
      "cell_type": "code",
      "metadata": {
        "colab": {
          "base_uri": "https://localhost:8080/",
          "height": 204
        },
        "id": "7_Dq5kkvJ8cj",
        "outputId": "4b74d10b-d9a9-4e4d-ddd2-68a8e8cbf5df"
      },
      "source": [
        "X_Scaled.head()"
      ],
      "execution_count": 169,
      "outputs": [
        {
          "output_type": "execute_result",
          "data": {
            "text/html": [
              "<div>\n",
              "<style scoped>\n",
              "    .dataframe tbody tr th:only-of-type {\n",
              "        vertical-align: middle;\n",
              "    }\n",
              "\n",
              "    .dataframe tbody tr th {\n",
              "        vertical-align: top;\n",
              "    }\n",
              "\n",
              "    .dataframe thead th {\n",
              "        text-align: right;\n",
              "    }\n",
              "</style>\n",
              "<table border=\"1\" class=\"dataframe\">\n",
              "  <thead>\n",
              "    <tr style=\"text-align: right;\">\n",
              "      <th></th>\n",
              "      <th>Pclass</th>\n",
              "      <th>Age</th>\n",
              "      <th>SibSp</th>\n",
              "      <th>Parch</th>\n",
              "      <th>Fare</th>\n",
              "      <th>Sex_male</th>\n",
              "      <th>Embarked_Q</th>\n",
              "      <th>Embarked_S</th>\n",
              "    </tr>\n",
              "  </thead>\n",
              "  <tbody>\n",
              "    <tr>\n",
              "      <th>0</th>\n",
              "      <td>0.827377</td>\n",
              "      <td>-0.556050</td>\n",
              "      <td>0.432793</td>\n",
              "      <td>-0.473674</td>\n",
              "      <td>-0.502445</td>\n",
              "      <td>0.737695</td>\n",
              "      <td>-0.307562</td>\n",
              "      <td>0.619306</td>\n",
              "    </tr>\n",
              "    <tr>\n",
              "      <th>1</th>\n",
              "      <td>-1.566107</td>\n",
              "      <td>0.595481</td>\n",
              "      <td>0.432793</td>\n",
              "      <td>-0.473674</td>\n",
              "      <td>0.786845</td>\n",
              "      <td>-1.355574</td>\n",
              "      <td>-0.307562</td>\n",
              "      <td>-1.614710</td>\n",
              "    </tr>\n",
              "    <tr>\n",
              "      <th>2</th>\n",
              "      <td>0.827377</td>\n",
              "      <td>-0.268167</td>\n",
              "      <td>-0.474545</td>\n",
              "      <td>-0.473674</td>\n",
              "      <td>-0.488854</td>\n",
              "      <td>-1.355574</td>\n",
              "      <td>-0.307562</td>\n",
              "      <td>0.619306</td>\n",
              "    </tr>\n",
              "    <tr>\n",
              "      <th>3</th>\n",
              "      <td>-1.566107</td>\n",
              "      <td>0.379569</td>\n",
              "      <td>0.432793</td>\n",
              "      <td>-0.473674</td>\n",
              "      <td>0.420730</td>\n",
              "      <td>-1.355574</td>\n",
              "      <td>-0.307562</td>\n",
              "      <td>0.619306</td>\n",
              "    </tr>\n",
              "    <tr>\n",
              "      <th>4</th>\n",
              "      <td>0.827377</td>\n",
              "      <td>0.379569</td>\n",
              "      <td>-0.474545</td>\n",
              "      <td>-0.473674</td>\n",
              "      <td>-0.486337</td>\n",
              "      <td>0.737695</td>\n",
              "      <td>-0.307562</td>\n",
              "      <td>0.619306</td>\n",
              "    </tr>\n",
              "  </tbody>\n",
              "</table>\n",
              "</div>"
            ],
            "text/plain": [
              "     Pclass       Age     SibSp  ...  Sex_male  Embarked_Q  Embarked_S\n",
              "0  0.827377 -0.556050  0.432793  ...  0.737695   -0.307562    0.619306\n",
              "1 -1.566107  0.595481  0.432793  ... -1.355574   -0.307562   -1.614710\n",
              "2  0.827377 -0.268167 -0.474545  ... -1.355574   -0.307562    0.619306\n",
              "3 -1.566107  0.379569  0.432793  ... -1.355574   -0.307562    0.619306\n",
              "4  0.827377  0.379569 -0.474545  ...  0.737695   -0.307562    0.619306\n",
              "\n",
              "[5 rows x 8 columns]"
            ]
          },
          "metadata": {
            "tags": []
          },
          "execution_count": 169
        }
      ]
    },
    {
      "cell_type": "code",
      "metadata": {
        "colab": {
          "base_uri": "https://localhost:8080/",
          "height": 204
        },
        "id": "8mBcb005JY72",
        "outputId": "032653bb-1ca8-4310-d89c-cfcc401ef0cf"
      },
      "source": [
        "df_testScaled.head()"
      ],
      "execution_count": 170,
      "outputs": [
        {
          "output_type": "execute_result",
          "data": {
            "text/html": [
              "<div>\n",
              "<style scoped>\n",
              "    .dataframe tbody tr th:only-of-type {\n",
              "        vertical-align: middle;\n",
              "    }\n",
              "\n",
              "    .dataframe tbody tr th {\n",
              "        vertical-align: top;\n",
              "    }\n",
              "\n",
              "    .dataframe thead th {\n",
              "        text-align: right;\n",
              "    }\n",
              "</style>\n",
              "<table border=\"1\" class=\"dataframe\">\n",
              "  <thead>\n",
              "    <tr style=\"text-align: right;\">\n",
              "      <th></th>\n",
              "      <th>Pclass</th>\n",
              "      <th>Age</th>\n",
              "      <th>SibSp</th>\n",
              "      <th>Parch</th>\n",
              "      <th>Fare</th>\n",
              "      <th>Sex_male</th>\n",
              "      <th>Embarked_Q</th>\n",
              "      <th>Embarked_S</th>\n",
              "    </tr>\n",
              "  </thead>\n",
              "  <tbody>\n",
              "    <tr>\n",
              "      <th>0</th>\n",
              "      <td>0.873482</td>\n",
              "      <td>0.334993</td>\n",
              "      <td>-0.499470</td>\n",
              "      <td>-0.400248</td>\n",
              "      <td>-0.498407</td>\n",
              "      <td>0.755929</td>\n",
              "      <td>2.843757</td>\n",
              "      <td>-1.350676</td>\n",
              "    </tr>\n",
              "    <tr>\n",
              "      <th>1</th>\n",
              "      <td>0.873482</td>\n",
              "      <td>1.325530</td>\n",
              "      <td>0.616992</td>\n",
              "      <td>-0.400248</td>\n",
              "      <td>-0.513274</td>\n",
              "      <td>-1.322876</td>\n",
              "      <td>-0.351647</td>\n",
              "      <td>0.740370</td>\n",
              "    </tr>\n",
              "    <tr>\n",
              "      <th>2</th>\n",
              "      <td>-0.315819</td>\n",
              "      <td>2.514175</td>\n",
              "      <td>-0.499470</td>\n",
              "      <td>-0.400248</td>\n",
              "      <td>-0.465088</td>\n",
              "      <td>0.755929</td>\n",
              "      <td>2.843757</td>\n",
              "      <td>-1.350676</td>\n",
              "    </tr>\n",
              "    <tr>\n",
              "      <th>3</th>\n",
              "      <td>0.873482</td>\n",
              "      <td>-0.259330</td>\n",
              "      <td>-0.499470</td>\n",
              "      <td>-0.400248</td>\n",
              "      <td>-0.483466</td>\n",
              "      <td>0.755929</td>\n",
              "      <td>-0.351647</td>\n",
              "      <td>0.740370</td>\n",
              "    </tr>\n",
              "    <tr>\n",
              "      <th>4</th>\n",
              "      <td>0.873482</td>\n",
              "      <td>-0.655545</td>\n",
              "      <td>0.616992</td>\n",
              "      <td>0.619896</td>\n",
              "      <td>-0.418471</td>\n",
              "      <td>-1.322876</td>\n",
              "      <td>-0.351647</td>\n",
              "      <td>0.740370</td>\n",
              "    </tr>\n",
              "  </tbody>\n",
              "</table>\n",
              "</div>"
            ],
            "text/plain": [
              "     Pclass       Age     SibSp  ...  Sex_male  Embarked_Q  Embarked_S\n",
              "0  0.873482  0.334993 -0.499470  ...  0.755929    2.843757   -1.350676\n",
              "1  0.873482  1.325530  0.616992  ... -1.322876   -0.351647    0.740370\n",
              "2 -0.315819  2.514175 -0.499470  ...  0.755929    2.843757   -1.350676\n",
              "3  0.873482 -0.259330 -0.499470  ...  0.755929   -0.351647    0.740370\n",
              "4  0.873482 -0.655545  0.616992  ... -1.322876   -0.351647    0.740370\n",
              "\n",
              "[5 rows x 8 columns]"
            ]
          },
          "metadata": {
            "tags": []
          },
          "execution_count": 170
        }
      ]
    },
    {
      "cell_type": "markdown",
      "metadata": {
        "id": "b2RV4ejnLTnK"
      },
      "source": [
        "**Apply different classification model on scaled data**\n",
        "\n",
        "**1. KNeighborsClassifier**"
      ]
    },
    {
      "cell_type": "code",
      "metadata": {
        "id": "EcjD_iq1LjMu"
      },
      "source": [
        "knn = KNeighborsClassifier(n_neighbors=5)\n",
        "\n",
        "knn.fit( X_Scaled , y)\n",
        "\n",
        "y_pred = knn.predict(df_testScaled)"
      ],
      "execution_count": 172,
      "outputs": []
    },
    {
      "cell_type": "code",
      "metadata": {
        "colab": {
          "base_uri": "https://localhost:8080/"
        },
        "id": "6YzIHosKMA0a",
        "outputId": "cf542f77-1d83-4201-d45b-1044914d0d6b"
      },
      "source": [
        "y_pred"
      ],
      "execution_count": 173,
      "outputs": [
        {
          "output_type": "execute_result",
          "data": {
            "text/plain": [
              "array([0, 0, 0, 0, 0, 0, 0, 0, 1, 0, 0, 0, 1, 0, 1, 1, 0, 0, 0, 0, 1, 1,\n",
              "       1, 0, 1, 0, 1, 0, 1, 0, 0, 0, 0, 0, 1, 0, 0, 1, 0, 1, 0, 1, 0, 1,\n",
              "       1, 0, 0, 0, 1, 1, 0, 0, 1, 1, 0, 0, 0, 0, 0, 1, 0, 0, 0, 1, 0, 1,\n",
              "       1, 0, 1, 1, 1, 0, 1, 1, 1, 0, 0, 1, 0, 1, 1, 0, 1, 0, 0, 0, 1, 0,\n",
              "       0, 1, 0, 0, 1, 0, 0, 0, 1, 0, 1, 0, 1, 0, 0, 0, 1, 0, 0, 0, 0, 0,\n",
              "       0, 0, 1, 1, 1, 0, 0, 1, 0, 1, 1, 0, 1, 1, 0, 1, 0, 1, 0, 0, 0, 0,\n",
              "       0, 0, 0, 0, 0, 0, 1, 0, 0, 1, 0, 0, 1, 0, 0, 0, 1, 0, 1, 0, 0, 1,\n",
              "       0, 0, 1, 1, 1, 1, 0, 1, 1, 0, 0, 0, 0, 0, 1, 1, 0, 0, 0, 0, 0, 1,\n",
              "       1, 1, 1, 1, 0, 0, 1, 0, 1, 0, 1, 0, 0, 0, 0, 1, 1, 0, 1, 0, 1, 0,\n",
              "       0, 0, 0, 1, 0, 1, 0, 1, 1, 0, 1, 0, 0, 0, 0, 1, 0, 1, 0, 0, 1, 0,\n",
              "       1, 0, 1, 0, 1, 1, 0, 0, 0, 0, 0, 1, 0, 0, 1, 0, 1, 0, 1, 1, 1, 1,\n",
              "       1, 0, 0, 0, 1, 0, 1, 0, 1, 0, 0, 0, 0, 0, 0, 1, 1, 0, 0, 0, 1, 1,\n",
              "       0, 0, 0, 0, 0, 0, 0, 0, 1, 1, 0, 1, 0, 0, 0, 0, 1, 1, 0, 1, 1, 0,\n",
              "       0, 0, 0, 0, 1, 0, 0, 0, 0, 0, 1, 0, 0, 0, 0, 0, 0, 0, 0, 1, 1, 1,\n",
              "       0, 0, 0, 0, 0, 1, 1, 1, 1, 0, 0, 0, 0, 0, 0, 1, 1, 0, 1, 1, 0, 0,\n",
              "       1, 0, 0, 0, 0, 1, 0, 1, 0, 0, 0, 0, 0, 1, 0, 0, 0, 0, 0, 1, 1, 0,\n",
              "       0, 0, 1, 1, 1, 0, 0, 0, 0, 1, 1, 0, 1, 0, 0, 0, 1, 0, 0, 1, 1, 0,\n",
              "       1, 1, 0, 0, 0, 0, 0, 0, 0, 0, 0, 1, 0, 0, 0, 0, 0, 1, 1, 0, 0, 1,\n",
              "       0, 1, 0, 0, 1, 0, 1, 0, 1, 0, 0, 0, 0, 1, 0, 1, 1, 0, 1, 0, 0, 1])"
            ]
          },
          "metadata": {
            "tags": []
          },
          "execution_count": 173
        }
      ]
    },
    {
      "cell_type": "markdown",
      "metadata": {
        "id": "MuF6PzXeMTIx"
      },
      "source": [
        "**2.Logistic Regression**"
      ]
    },
    {
      "cell_type": "code",
      "metadata": {
        "id": "wscWC4DUMXX4"
      },
      "source": [
        "logreg = LogisticRegression()\n",
        "\n",
        "logreg.fit( X_Scaled , y)\n",
        "\n",
        "y_predLR = logreg.predict(df_testScaled)"
      ],
      "execution_count": 174,
      "outputs": []
    },
    {
      "cell_type": "code",
      "metadata": {
        "colab": {
          "base_uri": "https://localhost:8080/"
        },
        "id": "opcIr6u1NXJu",
        "outputId": "9fbce8e1-f756-45ac-c502-a0e8718ad121"
      },
      "source": [
        "y_predLR"
      ],
      "execution_count": 175,
      "outputs": [
        {
          "output_type": "execute_result",
          "data": {
            "text/plain": [
              "array([0, 0, 0, 0, 1, 0, 1, 0, 1, 0, 0, 0, 1, 0, 1, 1, 0, 0, 1, 1, 0, 0,\n",
              "       1, 1, 1, 0, 1, 0, 0, 0, 0, 0, 0, 0, 0, 0, 1, 1, 0, 0, 0, 0, 0, 1,\n",
              "       1, 0, 0, 0, 1, 0, 0, 0, 1, 1, 0, 0, 0, 0, 0, 1, 0, 0, 0, 1, 1, 1,\n",
              "       1, 0, 1, 1, 1, 0, 1, 1, 1, 1, 0, 1, 0, 1, 0, 0, 0, 0, 0, 0, 1, 1,\n",
              "       1, 0, 1, 0, 1, 0, 1, 0, 1, 0, 1, 0, 1, 0, 0, 0, 1, 0, 0, 0, 0, 0,\n",
              "       0, 1, 1, 1, 1, 0, 0, 1, 1, 1, 1, 0, 1, 0, 0, 1, 0, 0, 0, 0, 0, 0,\n",
              "       1, 0, 0, 0, 0, 0, 1, 0, 0, 1, 0, 0, 0, 0, 0, 0, 0, 0, 1, 0, 0, 0,\n",
              "       0, 0, 1, 1, 0, 1, 1, 0, 1, 0, 0, 1, 0, 0, 1, 1, 0, 0, 0, 0, 0, 1,\n",
              "       1, 0, 1, 1, 0, 0, 1, 0, 1, 0, 1, 0, 0, 0, 0, 0, 0, 0, 0, 0, 1, 1,\n",
              "       0, 1, 1, 0, 0, 1, 0, 1, 1, 0, 1, 0, 0, 0, 0, 0, 0, 0, 1, 0, 1, 0,\n",
              "       1, 0, 1, 0, 1, 1, 0, 1, 0, 0, 0, 1, 0, 0, 0, 0, 0, 0, 1, 1, 1, 1,\n",
              "       0, 0, 0, 0, 1, 0, 1, 1, 1, 0, 1, 0, 0, 0, 0, 0, 1, 0, 0, 0, 1, 1,\n",
              "       0, 0, 0, 0, 1, 0, 0, 0, 1, 1, 0, 1, 0, 0, 0, 0, 1, 0, 1, 1, 1, 0,\n",
              "       0, 0, 0, 0, 0, 1, 0, 0, 0, 0, 1, 0, 0, 0, 0, 0, 0, 0, 1, 1, 0, 0,\n",
              "       0, 0, 0, 0, 0, 1, 1, 1, 0, 0, 0, 0, 0, 0, 0, 0, 1, 0, 1, 0, 0, 0,\n",
              "       1, 0, 0, 1, 0, 0, 0, 0, 0, 0, 0, 0, 0, 1, 0, 1, 0, 1, 0, 1, 1, 0,\n",
              "       0, 0, 1, 0, 1, 0, 0, 0, 0, 1, 1, 0, 1, 0, 0, 1, 1, 0, 0, 1, 0, 0,\n",
              "       1, 1, 0, 0, 0, 0, 0, 0, 1, 1, 0, 1, 0, 0, 0, 0, 1, 1, 0, 0, 0, 1,\n",
              "       0, 1, 0, 0, 1, 0, 1, 1, 0, 0, 0, 0, 1, 1, 1, 1, 1, 0, 1, 0, 0, 0])"
            ]
          },
          "metadata": {
            "tags": []
          },
          "execution_count": 175
        }
      ]
    },
    {
      "cell_type": "markdown",
      "metadata": {
        "id": "3C6nGMu-N4Rp"
      },
      "source": [
        "**3. Gaussian Naive Bayes**"
      ]
    },
    {
      "cell_type": "code",
      "metadata": {
        "id": "MaXTpSuKN8p1"
      },
      "source": [
        "gaussian = GaussianNB()\n",
        "\n",
        "gaussian.fit(X_Scaled , y)\n",
        "\n",
        "y_predNB = gaussian.predict(df_testScaled)"
      ],
      "execution_count": 177,
      "outputs": []
    },
    {
      "cell_type": "code",
      "metadata": {
        "colab": {
          "base_uri": "https://localhost:8080/"
        },
        "id": "y_AKWmVCOGph",
        "outputId": "706e48ec-c960-4917-eef3-306ed3c92fd7"
      },
      "source": [
        "y_predNB"
      ],
      "execution_count": 178,
      "outputs": [
        {
          "output_type": "execute_result",
          "data": {
            "text/plain": [
              "array([0, 1, 0, 0, 1, 0, 1, 0, 1, 0, 0, 0, 1, 0, 1, 1, 0, 0, 1, 1, 0, 0,\n",
              "       1, 1, 1, 0, 1, 0, 0, 0, 0, 0, 1, 1, 0, 0, 1, 1, 0, 0, 0, 0, 0, 1,\n",
              "       1, 0, 0, 0, 1, 1, 0, 0, 0, 1, 0, 0, 0, 0, 0, 1, 0, 0, 0, 1, 1, 1,\n",
              "       1, 0, 0, 1, 1, 0, 1, 0, 1, 1, 0, 0, 0, 1, 0, 1, 0, 0, 0, 0, 1, 1,\n",
              "       1, 0, 1, 0, 1, 0, 0, 0, 1, 0, 1, 0, 1, 0, 0, 0, 1, 0, 0, 0, 0, 0,\n",
              "       0, 1, 1, 1, 1, 0, 0, 1, 1, 1, 1, 0, 1, 0, 0, 1, 0, 0, 0, 0, 0, 0,\n",
              "       1, 0, 0, 0, 0, 0, 1, 0, 0, 1, 1, 0, 0, 0, 0, 0, 0, 0, 1, 0, 0, 1,\n",
              "       0, 0, 1, 1, 0, 1, 1, 0, 1, 0, 0, 1, 0, 0, 1, 1, 0, 0, 0, 0, 0, 1,\n",
              "       1, 0, 1, 1, 0, 1, 1, 0, 1, 0, 1, 0, 0, 0, 0, 0, 0, 0, 0, 0, 1, 1,\n",
              "       0, 1, 1, 0, 1, 1, 0, 0, 1, 0, 1, 0, 0, 0, 0, 1, 0, 0, 1, 1, 1, 0,\n",
              "       1, 0, 1, 0, 1, 1, 0, 1, 0, 0, 0, 1, 0, 0, 1, 0, 1, 0, 1, 1, 1, 1,\n",
              "       1, 0, 0, 0, 1, 0, 1, 1, 1, 0, 1, 0, 0, 0, 0, 0, 1, 0, 0, 0, 1, 1,\n",
              "       0, 0, 0, 0, 1, 0, 1, 0, 1, 1, 0, 1, 0, 0, 0, 0, 1, 0, 1, 1, 1, 0,\n",
              "       0, 0, 0, 0, 0, 1, 0, 1, 0, 0, 1, 0, 0, 0, 0, 0, 0, 0, 1, 1, 1, 0,\n",
              "       1, 0, 0, 0, 0, 1, 1, 1, 1, 0, 0, 0, 0, 0, 0, 0, 1, 0, 0, 1, 0, 0,\n",
              "       1, 0, 0, 1, 0, 0, 0, 0, 0, 0, 0, 0, 0, 1, 0, 1, 0, 1, 0, 1, 1, 0,\n",
              "       0, 0, 1, 0, 1, 0, 0, 1, 0, 1, 1, 0, 1, 0, 0, 1, 1, 0, 0, 1, 0, 0,\n",
              "       1, 1, 0, 0, 0, 0, 0, 0, 1, 1, 0, 1, 0, 0, 0, 0, 1, 1, 0, 0, 0, 1,\n",
              "       0, 1, 0, 0, 1, 0, 1, 0, 0, 0, 0, 1, 1, 1, 1, 1, 1, 0, 1, 0, 0, 0])"
            ]
          },
          "metadata": {
            "tags": []
          },
          "execution_count": 178
        }
      ]
    },
    {
      "cell_type": "markdown",
      "metadata": {
        "id": "MLaJh_nuOR7u"
      },
      "source": [
        "**4. Support Vector Machines**"
      ]
    },
    {
      "cell_type": "code",
      "metadata": {
        "id": "cmxVlcfxORce"
      },
      "source": [
        "svm_model = SVC(kernel='rbf',gamma='auto')\n",
        "\n",
        "svm_model.fit(X_Scaled , y)\n",
        "\n",
        "y_predSVM = svm_model.predict(df_testScaled)"
      ],
      "execution_count": 183,
      "outputs": []
    },
    {
      "cell_type": "code",
      "metadata": {
        "colab": {
          "base_uri": "https://localhost:8080/"
        },
        "id": "fmwquq8nPnuK",
        "outputId": "9dcd09fd-a074-4f68-b3ac-72cda22baa1a"
      },
      "source": [
        "y_predSVM"
      ],
      "execution_count": 184,
      "outputs": [
        {
          "output_type": "execute_result",
          "data": {
            "text/plain": [
              "array([0, 0, 0, 0, 0, 0, 1, 0, 1, 0, 0, 0, 1, 0, 1, 1, 0, 0, 0, 1, 0, 1,\n",
              "       1, 0, 1, 0, 1, 0, 0, 0, 0, 0, 0, 0, 0, 0, 0, 0, 0, 0, 0, 0, 0, 1,\n",
              "       1, 0, 0, 0, 1, 0, 0, 0, 1, 1, 0, 0, 0, 0, 0, 1, 0, 0, 0, 1, 0, 1,\n",
              "       1, 0, 0, 0, 1, 0, 0, 0, 1, 0, 0, 1, 0, 1, 1, 0, 0, 0, 0, 0, 1, 0,\n",
              "       1, 1, 0, 0, 1, 0, 0, 0, 1, 0, 0, 0, 1, 0, 0, 0, 1, 0, 0, 0, 0, 0,\n",
              "       0, 1, 1, 1, 1, 0, 0, 1, 0, 1, 1, 0, 1, 0, 0, 1, 0, 1, 0, 0, 0, 0,\n",
              "       0, 0, 0, 0, 0, 0, 0, 0, 0, 1, 0, 0, 0, 0, 0, 0, 0, 0, 1, 0, 0, 0,\n",
              "       0, 0, 1, 0, 0, 1, 1, 1, 1, 0, 0, 0, 0, 0, 1, 0, 0, 0, 0, 0, 0, 1,\n",
              "       1, 0, 1, 1, 0, 0, 1, 0, 1, 0, 1, 0, 0, 0, 0, 0, 0, 0, 1, 0, 1, 0,\n",
              "       0, 0, 1, 1, 0, 1, 0, 0, 1, 0, 1, 0, 0, 0, 0, 1, 0, 0, 1, 0, 1, 0,\n",
              "       1, 0, 1, 0, 1, 1, 0, 1, 0, 0, 0, 1, 0, 0, 0, 0, 0, 0, 1, 1, 1, 1,\n",
              "       0, 0, 0, 0, 1, 0, 1, 1, 1, 0, 0, 0, 0, 0, 0, 0, 1, 0, 0, 0, 1, 1,\n",
              "       0, 0, 0, 0, 0, 0, 0, 0, 1, 1, 0, 1, 0, 0, 0, 0, 0, 1, 1, 1, 1, 0,\n",
              "       0, 0, 0, 0, 0, 1, 0, 0, 0, 0, 1, 0, 0, 0, 0, 0, 0, 0, 1, 1, 0, 1,\n",
              "       0, 0, 0, 0, 0, 1, 1, 1, 0, 0, 0, 0, 0, 0, 0, 0, 1, 0, 1, 0, 0, 0,\n",
              "       1, 0, 0, 1, 0, 0, 0, 0, 0, 0, 0, 0, 0, 1, 0, 1, 0, 1, 0, 1, 1, 0,\n",
              "       0, 0, 1, 0, 1, 0, 0, 0, 0, 1, 1, 0, 1, 0, 0, 0, 1, 0, 0, 1, 0, 0,\n",
              "       1, 1, 0, 0, 0, 0, 0, 0, 0, 0, 0, 1, 0, 0, 0, 0, 0, 1, 1, 0, 0, 1,\n",
              "       0, 1, 0, 0, 1, 0, 1, 0, 0, 0, 0, 0, 1, 1, 1, 1, 0, 0, 1, 0, 0, 0])"
            ]
          },
          "metadata": {
            "tags": []
          },
          "execution_count": 184
        }
      ]
    },
    {
      "cell_type": "markdown",
      "metadata": {
        "id": "dgnxa1ZdPvRy"
      },
      "source": [
        "**5. Decision trees**"
      ]
    },
    {
      "cell_type": "code",
      "metadata": {
        "id": "scKZwVlZPxoB"
      },
      "source": [
        "clf = DecisionTreeClassifier()\n",
        "\n",
        "clf = clf.fit(X_Scaled , y)\n",
        "\n",
        "y_predDT = clf.predict(df_testScaled)"
      ],
      "execution_count": 186,
      "outputs": []
    },
    {
      "cell_type": "code",
      "metadata": {
        "colab": {
          "base_uri": "https://localhost:8080/"
        },
        "id": "4rz47VFiQgiX",
        "outputId": "74ce662d-9fe2-4c1c-8976-9eafc2c57430"
      },
      "source": [
        "y_predDT"
      ],
      "execution_count": 187,
      "outputs": [
        {
          "output_type": "execute_result",
          "data": {
            "text/plain": [
              "array([0, 0, 0, 0, 1, 0, 0, 0, 0, 0, 0, 0, 1, 0, 1, 1, 0, 1, 1, 0, 1, 1,\n",
              "       0, 1, 1, 0, 1, 1, 0, 1, 0, 0, 0, 0, 0, 0, 0, 0, 0, 0, 0, 0, 0, 1,\n",
              "       1, 0, 0, 0, 1, 1, 0, 1, 1, 0, 0, 0, 0, 1, 0, 1, 0, 1, 0, 0, 0, 1,\n",
              "       1, 1, 0, 1, 1, 0, 1, 0, 1, 0, 0, 0, 0, 1, 1, 0, 0, 0, 0, 0, 1, 1,\n",
              "       0, 1, 1, 0, 0, 0, 0, 0, 1, 0, 1, 0, 1, 0, 0, 0, 1, 0, 0, 0, 0, 0,\n",
              "       0, 0, 0, 0, 1, 1, 0, 1, 1, 1, 1, 0, 1, 1, 0, 1, 0, 1, 0, 0, 1, 0,\n",
              "       1, 0, 0, 0, 0, 0, 1, 0, 0, 1, 1, 0, 0, 0, 0, 0, 0, 0, 1, 0, 0, 1,\n",
              "       0, 0, 1, 1, 0, 0, 0, 1, 1, 1, 0, 0, 1, 0, 1, 0, 0, 0, 0, 0, 0, 1,\n",
              "       1, 1, 1, 1, 0, 1, 1, 0, 1, 0, 1, 0, 0, 0, 0, 0, 1, 1, 1, 0, 1, 1,\n",
              "       0, 0, 0, 1, 0, 1, 0, 0, 1, 0, 1, 0, 1, 1, 0, 1, 0, 0, 0, 0, 1, 0,\n",
              "       1, 0, 1, 0, 1, 1, 0, 0, 0, 0, 1, 1, 0, 0, 1, 0, 1, 0, 1, 1, 0, 1,\n",
              "       1, 0, 0, 0, 1, 0, 1, 0, 0, 0, 1, 0, 0, 0, 0, 0, 1, 0, 0, 0, 1, 1,\n",
              "       0, 0, 0, 0, 0, 0, 1, 0, 1, 0, 0, 1, 1, 0, 0, 0, 0, 1, 0, 0, 0, 0,\n",
              "       1, 0, 0, 0, 1, 0, 0, 0, 0, 0, 0, 1, 0, 0, 1, 0, 0, 0, 0, 1, 0, 1,\n",
              "       0, 0, 1, 1, 0, 0, 1, 1, 1, 0, 0, 0, 0, 0, 0, 0, 1, 0, 1, 1, 0, 0,\n",
              "       1, 0, 0, 0, 0, 0, 1, 0, 0, 0, 0, 1, 0, 1, 0, 1, 0, 0, 0, 1, 1, 0,\n",
              "       0, 0, 0, 0, 1, 0, 0, 1, 0, 1, 1, 0, 1, 1, 0, 1, 1, 0, 1, 1, 0, 0,\n",
              "       1, 1, 0, 0, 0, 0, 0, 0, 1, 1, 0, 1, 0, 0, 0, 0, 0, 1, 1, 0, 0, 1,\n",
              "       0, 1, 0, 0, 1, 0, 1, 0, 0, 0, 1, 0, 0, 1, 0, 1, 1, 0, 1, 0, 0, 1])"
            ]
          },
          "metadata": {
            "tags": []
          },
          "execution_count": 187
        }
      ]
    },
    {
      "cell_type": "markdown",
      "metadata": {
        "id": "Ci_6V4QLREeX"
      },
      "source": [
        "**As this dataset is from kaggel competition we do not have result i.e. y_test**\n",
        "\n",
        "So we will create submission.csv files for each algorithm and sumit it and then check the score given by Kaggle"
      ]
    },
    {
      "cell_type": "code",
      "metadata": {
        "id": "iWFlzxB7ReDo"
      },
      "source": [
        "t_data = pd.read_csv('/content/test.csv')"
      ],
      "execution_count": 189,
      "outputs": []
    },
    {
      "cell_type": "code",
      "metadata": {
        "id": "Z792Iw0wR2g9"
      },
      "source": [
        "PassengerId = t_data['PassengerId']"
      ],
      "execution_count": 190,
      "outputs": []
    },
    {
      "cell_type": "markdown",
      "metadata": {
        "id": "0mZl3uJySV41"
      },
      "source": [
        "Submission csv for KNN"
      ]
    },
    {
      "cell_type": "code",
      "metadata": {
        "id": "v-cBw-UiSVml"
      },
      "source": [
        "submitKNN = pd.DataFrame({'PassengerId':PassengerId,\n",
        "                        'Survived':y_pred})\n",
        "submitKNN.to_csv(\"submissionKNN.csv\",index=False)"
      ],
      "execution_count": 191,
      "outputs": []
    },
    {
      "cell_type": "markdown",
      "metadata": {
        "id": "Hz8IXIQpSzxs"
      },
      "source": [
        "Submission csv for Logistic Regression"
      ]
    },
    {
      "cell_type": "code",
      "metadata": {
        "id": "89p9_bh_SzYF"
      },
      "source": [
        "submitLR = pd.DataFrame({'PassengerId':PassengerId,\n",
        "                        'Survived':y_predLR})\n",
        "submitLR.to_csv(\"submissionLR.csv\",index=False)"
      ],
      "execution_count": 192,
      "outputs": []
    },
    {
      "cell_type": "markdown",
      "metadata": {
        "id": "TLxy5QtAToCC"
      },
      "source": [
        "Submission csv for gaussian NB"
      ]
    },
    {
      "cell_type": "code",
      "metadata": {
        "id": "LNtKQ94rTrga"
      },
      "source": [
        "submitGNB = pd.DataFrame({'PassengerId':PassengerId,\n",
        "                        'Survived':y_predNB})\n",
        "submitGNB.to_csv(\"submissionGNB.csv\",index=False)"
      ],
      "execution_count": 193,
      "outputs": []
    },
    {
      "cell_type": "markdown",
      "metadata": {
        "id": "LWs1GSYtUF1z"
      },
      "source": [
        "submission csv for SVM"
      ]
    },
    {
      "cell_type": "code",
      "metadata": {
        "id": "oTYpoa3YUH7R"
      },
      "source": [
        "submitSVM = pd.DataFrame({'PassengerId':PassengerId,\n",
        "                        'Survived':y_predSVM})\n",
        "submitSVM.to_csv(\"submissionSVM.csv\",index=False)\n"
      ],
      "execution_count": 194,
      "outputs": []
    },
    {
      "cell_type": "markdown",
      "metadata": {
        "id": "K4H45x_2URwC"
      },
      "source": [
        "Submission csv for Decision tree"
      ]
    },
    {
      "cell_type": "code",
      "metadata": {
        "id": "DqycgvsxUU55"
      },
      "source": [
        "submitDT = pd.DataFrame({'PassengerId':PassengerId,\n",
        "                        'Survived':y_predDT})\n",
        "submitDT.to_csv(\"submissionDT.csv\",index=False)"
      ],
      "execution_count": 195,
      "outputs": []
    },
    {
      "cell_type": "markdown",
      "metadata": {
        "id": "o5m0fa6RWoYU"
      },
      "source": [
        "# **Scores generated after submission are : **"
      ]
    },
    {
      "cell_type": "markdown",
      "metadata": {
        "id": "PQfXtWRUWfPn"
      },
      "source": [
        "![image.png](data:image/png;base64,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)"
      ]
    }
  ]
}